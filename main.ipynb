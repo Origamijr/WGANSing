{
 "cells": [
  {
   "cell_type": "code",
   "execution_count": null,
   "metadata": {},
   "outputs": [],
   "source": [
    "import models\n",
    "import tensorflow as tf\n",
    "import argparse\n",
    "import os, sys\n",
    "import config\n",
    "import utils\n",
    "import numpy as np\n",
    "import mir_eval\n",
    "\n",
    "tf.logging.set_verbosity(tf.logging.ERROR)"
   ]
  },
  {
   "cell_type": "code",
   "execution_count": null,
   "metadata": {},
   "outputs": [],
   "source": [
    "# training\n",
    "if False:\n",
    "    def train(_):\n",
    "        model = models.WGANSing()\n",
    "        model.train()\n",
    "    tf.app.run(main=train)"
   ]
  },
  {
   "cell_type": "code",
   "execution_count": null,
   "metadata": {},
   "outputs": [],
   "source": [
    "# file list\n",
    "print([x for x in os.listdir(config.voice_dir) if x.startswith('nus' )])"
   ]
  },
  {
   "cell_type": "code",
   "execution_count": null,
   "metadata": {},
   "outputs": [],
   "source": [
    "file_name = 'nus_PMAR_sing_15.hdf5'\n",
    "singer_name = 'JTAN'\n",
    "\n",
    "assert singer_name in config.singers\n",
    "singer_index = config.singers.index(singer_name)"
   ]
  },
  {
   "cell_type": "code",
   "execution_count": null,
   "metadata": {},
   "outputs": [],
   "source": [
    "model = models.WGANSing()\n",
    "model.test_file_hdf5(file_name, singer_index)"
   ]
  }
 ],
 "metadata": {
  "kernelspec": {
   "display_name": "Python 3",
   "language": "python",
   "name": "python3"
  },
  "language_info": {
   "codemirror_mode": {
    "name": "ipython",
    "version": 3
   },
   "file_extension": ".py",
   "mimetype": "text/x-python",
   "name": "python",
   "nbconvert_exporter": "python",
   "pygments_lexer": "ipython3",
   "version": "3.7.4"
  }
 },
 "nbformat": 4,
 "nbformat_minor": 4
}
